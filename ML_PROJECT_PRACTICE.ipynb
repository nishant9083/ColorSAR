{
  "nbformat": 4,
  "nbformat_minor": 0,
  "metadata": {
    "colab": {
      "provenance": []
    },
    "kernelspec": {
      "name": "python3",
      "display_name": "Python 3"
    },
    "language_info": {
      "name": "python"
    }
  },
  "cells": [
    {
      "cell_type": "code",
      "execution_count": null,
      "metadata": {
        "id": "LeL4YiHy-HFx"
      },
      "outputs": [],
      "source": [
        "import cv2\n",
        "import numpy as np\n",
        "from skimage import io, color\n",
        "from tensorflow.keras.preprocessing.image import img_to_array, load_img\n",
        "from skimage.color import rgb2lab, lab2rgb\n",
        "\n"
      ]
    },
    {
      "cell_type": "markdown",
      "metadata": {
        "id": "ctdQ4-JK-tYD"
      },
      "source": [
        "#Step 1: Load and Slice Images into Patches"
      ]
    },
    {
      "cell_type": "code",
      "execution_count": null,
      "metadata": {
        "id": "qbOpcgmC-rkT"
      },
      "outputs": [],
      "source": [
        "def load_and_slice_image(image_path, patch_size=224):\n",
        "    img = load_img(image_path)\n",
        "    img_array = img_to_array(img)\n",
        "\n",
        "    patches = []\n",
        "    img_height, img_width, _ = img_array.shape\n",
        "\n",
        "    for i in range(0, img_height, patch_size):\n",
        "        for j in range(0, img_width, patch_size):\n",
        "            patch = img_array[i:i+patch_size, j:j+patch_size]\n",
        "            if patch.shape[0] == patch_size and patch.shape[1] == patch_size:\n",
        "                patches.append(patch)\n",
        "\n",
        "    return patches\n"
      ]
    },
    {
      "cell_type": "markdown",
      "metadata": {
        "id": "yTwt_UTJ-zKm"
      },
      "source": [
        "#Step 2: Convert Patches to Lab Color Space"
      ]
    },
    {
      "cell_type": "code",
      "execution_count": null,
      "metadata": {
        "id": "IMw6bAnH-2Dl"
      },
      "outputs": [],
      "source": [
        "def convert_to_lab(patches):\n",
        "    lab_patches = []\n",
        "    for patch in patches:\n",
        "        lab_patch = color.rgb2lab(patch / 255.0)  # Convert RGB to Lab\n",
        "        lab_patches.append(lab_patch)\n",
        "\n",
        "    return lab_patches\n",
        "\n",
        "def prepare_data_for_training(lab_patches):\n",
        "    L = []\n",
        "    ab = []\n",
        "\n",
        "    for lab_patch in lab_patches:\n",
        "        L.append(lab_patch[:,:,0])  # L channel\n",
        "        ab.append(lab_patch[:,:,1:])  # ab channels\n",
        "\n",
        "    L = np.array(L)\n",
        "    ab = np.array(ab)\n",
        "\n",
        "    # Normalize the data to [-1, 1]\n",
        "    L = (L - 50) / 50.0  # L channel normalization\n",
        "    ab = ab / 128.0  # ab channels normalization\n",
        "\n",
        "    return L[..., np.newaxis], ab\n"
      ]
    }
  ]
}